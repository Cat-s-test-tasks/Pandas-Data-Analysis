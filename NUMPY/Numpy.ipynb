{
  "cells": [
    {
      "cell_type": "markdown",
      "metadata": {
        "id": "nIzJU814xCzL"
      },
      "source": [
        "# Задачи!"
      ]
    },
    {
      "cell_type": "markdown",
      "metadata": {
        "id": "4MFhJKN2xCzM"
      },
      "source": [
        "## Найти в массиве те элементы, значение которых меньше среднего арифметического, взятого от всех элементов массива."
      ]
    },
    {
      "cell_type": "code",
      "execution_count": null,
      "metadata": {
        "colab": {
          "base_uri": "https://localhost:8080/"
        },
        "id": "Fx8qxCUCxCzM",
        "outputId": "3af258c4-c8d0-4782-e216-c180fed224b2"
      },
      "outputs": [
        {
          "data": {
            "text/plain": [
              "array([[ 4, -2,  2,  7,  6,  4,  6],\n",
              "       [ 9,  8,  9,  6,  8, -2, -3],\n",
              "       [-4,  7,  6,  7, -1, -5, -2]])"
            ]
          },
          "execution_count": 77,
          "metadata": {
            "tags": []
          },
          "output_type": "execute_result"
        }
      ],
      "source": [
        "# используйте случайный двумерный массив:\n",
        "A = np.random.randint(-5, 10, size=(np.random.randint(2,5), np.random.randint(3,10)))\n",
        "A"
      ]
    },
    {
      "cell_type": "code",
      "execution_count": null,
      "metadata": {
        "colab": {
          "base_uri": "https://localhost:8080/"
        },
        "id": "iXwmM_VQxCzN",
        "outputId": "35123dbd-25ae-4b66-c347-b328a5a9b205"
      },
      "outputs": [
        {
          "data": {
            "text/plain": [
              "[-2, 2, -2, -3, -4, -1, -5, -2]"
            ]
          },
          "execution_count": 78,
          "metadata": {
            "tags": []
          },
          "output_type": "execute_result"
        }
      ],
      "source": [
        "[item for item in A.flatten() if item < A.mean()]"
      ]
    },
    {
      "cell_type": "markdown",
      "metadata": {
        "id": "rT0HPvgaxCzN"
      },
      "source": [
        "## Вычислить сумму модулей элементов массива, расположенных после первого отрицательного элемента.\n",
        "Массив - двумерный."
      ]
    },
    {
      "cell_type": "code",
      "execution_count": null,
      "metadata": {
        "colab": {
          "base_uri": "https://localhost:8080/"
        },
        "id": "PMQL1oXUxCzO",
        "outputId": "76245366-b408-41cf-d8bd-e28ce3492ba7"
      },
      "outputs": [
        {
          "data": {
            "text/plain": [
              "array([[ 6, -2, -5],\n",
              "       [-2,  8,  5],\n",
              "       [ 6,  5, -5],\n",
              "       [ 5,  3,  2]])"
            ]
          },
          "execution_count": 72,
          "metadata": {
            "tags": []
          },
          "output_type": "execute_result"
        }
      ],
      "source": [
        "# используйте случайный двумерный массив:\n",
        "A = np.random.randint(-5, 10, size=(np.random.randint(2,5), np.random.randint(3,10)))\n",
        "A"
      ]
    },
    {
      "cell_type": "code",
      "execution_count": null,
      "metadata": {
        "colab": {
          "base_uri": "https://localhost:8080/"
        },
        "id": "vNvrhXz7xCzO",
        "outputId": "1f443add-56d5-4b35-ea68-975720471726"
      },
      "outputs": [
        {
          "data": {
            "text/plain": [
              "1"
            ]
          },
          "execution_count": 73,
          "metadata": {
            "tags": []
          },
          "output_type": "execute_result"
        }
      ],
      "source": [
        "for i in range(len(A.flatten())):\n",
        "  if A.flatten()[i] < 0:\n",
        "    neg_index = i\n",
        "    break\n",
        "neg_index"
      ]
    },
    {
      "cell_type": "code",
      "execution_count": null,
      "metadata": {
        "colab": {
          "base_uri": "https://localhost:8080/"
        },
        "id": "qQ_TBK08xCzO",
        "outputId": "c9baa48a-0eed-4513-ec7b-8f87a68074eb"
      },
      "outputs": [
        {
          "data": {
            "text/plain": [
              "46"
            ]
          },
          "execution_count": 76,
          "metadata": {
            "tags": []
          },
          "output_type": "execute_result"
        }
      ],
      "source": [
        "sum(abs(A.flatten()[neg_index+1::]))"
      ]
    },
    {
      "cell_type": "markdown",
      "metadata": {
        "id": "x5uzFmL1xCzP"
      },
      "source": [
        "## Во втором массиве сохранить индексы четных элементов первого массива. \n",
        "Например, если дан массив со значениями 8, 3, 15, 6, 4, 2, то во второй массив надо заполнить значениями 1, 4, 5, 6 (или 0, 3, 4, 5 - если индексация начинается с нуля), т.к. именно в этих позициях первого массива стоят четные числа."
      ]
    },
    {
      "cell_type": "code",
      "execution_count": null,
      "metadata": {
        "colab": {
          "base_uri": "https://localhost:8080/"
        },
        "id": "ObRQC129xCzP",
        "outputId": "341b4284-180e-489a-8d0c-03d559797f93"
      },
      "outputs": [
        {
          "data": {
            "text/plain": [
              "array([56, 36, 56, 11, 87, 65, 35, 37, 75, 47, 40, 49, 50])"
            ]
          },
          "execution_count": 82,
          "metadata": {
            "tags": []
          },
          "output_type": "execute_result"
        }
      ],
      "source": [
        "#  используйте массив В\n",
        "B = np.random.randint(1, 100, size=(np.random.randint(1,20),))\n",
        "B"
      ]
    },
    {
      "cell_type": "code",
      "execution_count": null,
      "metadata": {
        "colab": {
          "base_uri": "https://localhost:8080/"
        },
        "id": "JOALfKdLxCzQ",
        "outputId": "4b418e92-f33c-4a75-d734-60f8ab493842"
      },
      "outputs": [
        {
          "data": {
            "text/plain": [
              "[0, 1, 2, 10, 12]"
            ]
          },
          "execution_count": 85,
          "metadata": {
            "tags": []
          },
          "output_type": "execute_result"
        }
      ],
      "source": [
        "[i for i in range(len(B.flatten())) if B.flatten()[i]%2==0]"
      ]
    },
    {
      "cell_type": "markdown",
      "metadata": {
        "id": "tWPMM0bixCzQ"
      },
      "source": [
        "## Отсортировать массив, заполненный случайными числами, по возрастанию. \n",
        "Вывести на экран массив в исходном и отсортированном виде."
      ]
    },
    {
      "cell_type": "code",
      "execution_count": null,
      "metadata": {
        "colab": {
          "base_uri": "https://localhost:8080/"
        },
        "id": "wW6xfwCNxCzQ",
        "outputId": "217640c9-bc5c-4757-cdbc-b39d2dbb273e"
      },
      "outputs": [
        {
          "data": {
            "text/plain": [
              "array([-71, -53, -97,  20,  -7, -36,  74,  54,  19,   4,  12, -24,  14,\n",
              "       -70,  24, -14, -46, -63,  86,  94, -68, -89, -58, -54,  66,   6,\n",
              "       -70,   1, -40,  23, -95,  42, -51, -39, -62,  57])"
            ]
          },
          "execution_count": 91,
          "metadata": {
            "tags": []
          },
          "output_type": "execute_result"
        }
      ],
      "source": [
        "#  используйте массив В\n",
        "B = np.random.randint(-100, 100, size=(np.random.randint(10,40),))\n",
        "B"
      ]
    },
    {
      "cell_type": "code",
      "execution_count": null,
      "metadata": {
        "colab": {
          "base_uri": "https://localhost:8080/"
        },
        "id": "eMTt94-2xCzQ",
        "outputId": "f6ed8bbd-1064-4750-9161-07a11fdce0ba"
      },
      "outputs": [
        {
          "data": {
            "text/plain": [
              "[-97,\n",
              " -95,\n",
              " -89,\n",
              " -71,\n",
              " -70,\n",
              " -70,\n",
              " -68,\n",
              " -63,\n",
              " -62,\n",
              " -58,\n",
              " -54,\n",
              " -53,\n",
              " -51,\n",
              " -46,\n",
              " -40,\n",
              " -39,\n",
              " -36,\n",
              " -24,\n",
              " -14,\n",
              " -7,\n",
              " 1,\n",
              " 4,\n",
              " 6,\n",
              " 12,\n",
              " 14,\n",
              " 19,\n",
              " 20,\n",
              " 23,\n",
              " 24,\n",
              " 42,\n",
              " 54,\n",
              " 57,\n",
              " 66,\n",
              " 74,\n",
              " 86,\n",
              " 94]"
            ]
          },
          "execution_count": 93,
          "metadata": {
            "tags": []
          },
          "output_type": "execute_result"
        }
      ],
      "source": [
        "sorted(B)"
      ]
    },
    {
      "cell_type": "markdown",
      "metadata": {
        "id": "aUDHn6-DxCzQ"
      },
      "source": [
        "## Найдите сумму положительных элементов главной диагонали матрицы.\n"
      ]
    },
    {
      "cell_type": "code",
      "execution_count": null,
      "metadata": {
        "colab": {
          "base_uri": "https://localhost:8080/"
        },
        "id": "Nu9HGq7PxCzQ",
        "outputId": "c6c2bb3d-7528-44bc-a360-b35eb2b23f9c"
      },
      "outputs": [
        {
          "data": {
            "text/plain": [
              "array([[-3, -4, -1,  0, -1,  1,  0,  9,  4],\n",
              "       [ 3, -3,  0, -5,  7,  3, -4,  5, -2],\n",
              "       [-3, -1, -2,  8,  9, -4,  9,  1,  8],\n",
              "       [ 2,  9,  3,  0, -4,  8,  7, -1, -5],\n",
              "       [ 0,  6,  6,  6,  1, -3,  1, -3, -5],\n",
              "       [ 8,  7, -4,  3,  6, -4, -4, -4,  6],\n",
              "       [ 4, -5, -4,  6,  1,  8,  1, -2,  6]])"
            ]
          },
          "execution_count": 95,
          "metadata": {
            "tags": []
          },
          "output_type": "execute_result"
        }
      ],
      "source": [
        "# Ипользуйте массив:\n",
        "A = np.random.randint(-5, 10, size=(np.random.randint(3,10),np.random.randint(3,10)))\n",
        "A"
      ]
    },
    {
      "cell_type": "code",
      "execution_count": null,
      "metadata": {
        "colab": {
          "base_uri": "https://localhost:8080/"
        },
        "id": "YvtdQ7MSxCzQ",
        "outputId": "7333cf6a-2c2a-4f4f-ecaf-84a065b94514"
      },
      "outputs": [
        {
          "data": {
            "text/plain": [
              "2"
            ]
          },
          "execution_count": 98,
          "metadata": {
            "tags": []
          },
          "output_type": "execute_result"
        }
      ],
      "source": [
        "sum([item for item in np.diagonal(A) if item > 0])"
      ]
    },
    {
      "cell_type": "markdown",
      "metadata": {
        "id": "I5hkwUsqxCzR"
      },
      "source": [
        "## Проверьте, что два вектора одинаковые по набору элементов и количеству. \n",
        "\n",
        "Например [1,2,2,3] == [3,2,2,1]"
      ]
    },
    {
      "cell_type": "code",
      "execution_count": null,
      "metadata": {
        "colab": {
          "base_uri": "https://localhost:8080/"
        },
        "id": "VVcr0PgnxCzR",
        "outputId": "c91524e6-9b3b-46c6-f94a-ae291d299785"
      },
      "outputs": [
        {
          "data": {
            "text/plain": [
              "(array([45]), array([-6,  1]))"
            ]
          },
          "execution_count": 110,
          "metadata": {
            "tags": []
          },
          "output_type": "execute_result"
        }
      ],
      "source": [
        "#  используйте массивы:\n",
        "B = np.random.randint(-100, 100, size=(np.random.randint(1,10),))\n",
        "C = np.random.randint(-100, 100, size=(np.random.randint(1,10),))\n",
        "B, C"
      ]
    },
    {
      "cell_type": "code",
      "execution_count": null,
      "metadata": {
        "colab": {
          "base_uri": "https://localhost:8080/"
        },
        "id": "CMLh3-glxCzS",
        "outputId": "8e294f51-f04a-448f-bd53-97472824f0c9"
      },
      "outputs": [
        {
          "data": {
            "text/plain": [
              "False"
            ]
          },
          "execution_count": 111,
          "metadata": {
            "tags": []
          },
          "output_type": "execute_result"
        }
      ],
      "source": [
        "B.sort()\n",
        "C.sort()\n",
        "\n",
        "np.array_equal(B,C)"
      ]
    },
    {
      "cell_type": "markdown",
      "metadata": {
        "id": "37D3kLXZxCzS"
      },
      "source": [
        "## Найди минимальное значение перед которым стоит 0 в массиве."
      ]
    },
    {
      "cell_type": "code",
      "execution_count": null,
      "metadata": {
        "colab": {
          "base_uri": "https://localhost:8080/"
        },
        "id": "FpoMxav0xCzS",
        "outputId": "1e2053a6-af96-436b-bdad-d49519199b5d"
      },
      "outputs": [
        {
          "data": {
            "text/plain": [
              "array([ 0,  4,  0, -5, -5, -7, -1,  7])"
            ]
          },
          "execution_count": 140,
          "metadata": {
            "tags": []
          },
          "output_type": "execute_result"
        }
      ],
      "source": [
        "#  используйте массив:\n",
        "B = np.random.randint(-10, 10, size=(np.random.randint(1,10),))\n",
        "B"
      ]
    },
    {
      "cell_type": "code",
      "execution_count": null,
      "metadata": {
        "colab": {
          "base_uri": "https://localhost:8080/"
        },
        "id": "HqzYOmeexCzS",
        "outputId": "32635539-a0bf-4ee2-e946-98a86d14e3ef"
      },
      "outputs": [
        {
          "name": "stdout",
          "output_type": "stream",
          "text": [
            "-5\n"
          ]
        }
      ],
      "source": [
        "min = B.max()+1\n",
        "\n",
        "for i in range(1, len(B)):\n",
        "  if B[i-1]==0 and B[i]<min:\n",
        "    min=B[i]\n",
        "\n",
        "if min == B.max()+1:\n",
        "  print(\"Нулей в массиве нет\")\n",
        "else:\n",
        "  print(min)"
      ]
    },
    {
      "cell_type": "markdown",
      "metadata": {
        "id": "PwbNnj3qxCzT"
      },
      "source": [
        "## А вот и сложное задание. \n",
        "\n",
        "Пусть вам дан массив [1,2,2,2,3]. Вам нужно вернуть ([1,2,3],[1,3,1])\n",
        "\n",
        "Это что-то вроде словаря подсчёта. В первом массиве элементы, во втором - их количество.\n"
      ]
    },
    {
      "cell_type": "code",
      "execution_count": null,
      "metadata": {
        "colab": {
          "base_uri": "https://localhost:8080/"
        },
        "id": "uEf-kGf6xCzT",
        "outputId": "b00ab20d-41d6-46f0-ec15-55934acd24f1"
      },
      "outputs": [
        {
          "data": {
            "text/plain": [
              "array([7, 6, 9, 6, 3, 4, 9, 9, 4, 2, 6, 5, 3, 9, 5])"
            ]
          },
          "execution_count": 146,
          "metadata": {
            "tags": []
          },
          "output_type": "execute_result"
        }
      ],
      "source": [
        "#  используйте массив:\n",
        "B = np.random.randint(1, 10, size=(np.random.randint(1,20),))\n",
        "B"
      ]
    },
    {
      "cell_type": "code",
      "execution_count": null,
      "metadata": {
        "colab": {
          "base_uri": "https://localhost:8080/"
        },
        "id": "1-mRlP2DxCzT",
        "outputId": "acfb214b-4b0b-4db0-9f50-e575a5f7b8c3"
      },
      "outputs": [
        {
          "data": {
            "text/plain": [
              "([7, 6, 9, 3, 4, 2, 5], [1, 3, 4, 2, 2, 1, 2])"
            ]
          },
          "execution_count": 162,
          "metadata": {
            "tags": []
          },
          "output_type": "execute_result"
        }
      ],
      "source": [
        "from collections import Counter\n",
        "\n",
        "(list(Counter(B).keys()), list(Counter(B).values()))"
      ]
    },
    {
      "cell_type": "markdown",
      "metadata": {
        "id": "xdjNuxjaxCzT"
      },
      "source": [
        "## Ну и на закуску. \n",
        "Вычислите  евклидовое расстояние между двумя векторами объектов."
      ]
    },
    {
      "cell_type": "code",
      "execution_count": null,
      "metadata": {
        "colab": {
          "base_uri": "https://localhost:8080/"
        },
        "id": "5hmfI3HwxCzT",
        "outputId": "4900331a-2c21-448e-e764-4bd51c8a521a"
      },
      "outputs": [
        {
          "data": {
            "text/plain": [
              "(array([ 92, -59, -23,  83, -31, -55,  95,  72,  63]),\n",
              " array([ 69, -58, -25, -21,  68, -87, -13, -57, -24]))"
            ]
          },
          "execution_count": 169,
          "metadata": {
            "tags": []
          },
          "output_type": "execute_result"
        }
      ],
      "source": [
        "#  используйте массивы:\n",
        "k = np.random.randint(1,10)\n",
        "B = np.random.randint(-100, 100, size=(k,))\n",
        "C = np.random.randint(-100, 100, size=(k,))\n",
        "B, C"
      ]
    },
    {
      "cell_type": "code",
      "execution_count": null,
      "metadata": {
        "colab": {
          "base_uri": "https://localhost:8080/"
        },
        "id": "q_huJjzPxCzU",
        "outputId": "e32c15b2-f647-47da-87cd-d0191dd99305"
      },
      "outputs": [
        {
          "data": {
            "text/plain": [
              "240.9336008115099"
            ]
          },
          "execution_count": 170,
          "metadata": {
            "tags": []
          },
          "output_type": "execute_result"
        }
      ],
      "source": [
        "np.linalg.norm(B-C)"
      ]
    }
  ],
  "metadata": {
    "colab": {
      "collapsed_sections": [],
      "name": "PIZZZA MAM Numpy.ipynb",
      "provenance": []
    },
    "kernelspec": {
      "display_name": "Python 3",
      "language": "python",
      "name": "python3"
    },
    "language_info": {
      "codemirror_mode": {
        "name": "ipython",
        "version": 3
      },
      "file_extension": ".py",
      "mimetype": "text/x-python",
      "name": "python",
      "nbconvert_exporter": "python",
      "pygments_lexer": "ipython3",
      "version": "3.6.4"
    }
  },
  "nbformat": 4,
  "nbformat_minor": 0
}
